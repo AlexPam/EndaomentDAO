{
 "cells": [
  {
   "cell_type": "code",
   "execution_count": 1,
   "id": "69f90a60-0c1e-4071-9596-a934398e26cb",
   "metadata": {
    "tags": []
   },
   "outputs": [],
   "source": [
    "import pandas as pd\n",
    "import matplotlib.pyplot as plt\n",
    "import seaborn as sns\n",
    "import re"
   ]
  },
  {
   "cell_type": "code",
   "execution_count": 2,
   "id": "3fd4f32e-1000-4299-bb81-7e9974aac4d0",
   "metadata": {
    "tags": []
   },
   "outputs": [],
   "source": [
    "# Load the dataset\n",
    "data = pd.read_csv('top contributing organization.csv')\n"
   ]
  },
  {
   "cell_type": "code",
   "execution_count": 3,
   "id": "965ad296-15af-46e0-a3f8-d12346f616ba",
   "metadata": {
    "tags": []
   },
   "outputs": [
    {
     "data": {
      "text/html": [
       "<div>\n",
       "<style scoped>\n",
       "    .dataframe tbody tr th:only-of-type {\n",
       "        vertical-align: middle;\n",
       "    }\n",
       "\n",
       "    .dataframe tbody tr th {\n",
       "        vertical-align: top;\n",
       "    }\n",
       "\n",
       "    .dataframe thead th {\n",
       "        text-align: right;\n",
       "    }\n",
       "</style>\n",
       "<table border=\"1\" class=\"dataframe\">\n",
       "  <thead>\n",
       "    <tr style=\"text-align: right;\">\n",
       "      <th></th>\n",
       "      <th>id</th>\n",
       "      <th>entityType</th>\n",
       "      <th>ein</th>\n",
       "      <th>entityManager</th>\n",
       "      <th>totalUsdcGrantedOut</th>\n",
       "      <th>totalUsdcTransferredOut</th>\n",
       "    </tr>\n",
       "  </thead>\n",
       "  <tbody>\n",
       "    <tr>\n",
       "      <th>0</th>\n",
       "      <td>0x244064a29c0a18dfbc387a9aebc76d425a59aa07</td>\n",
       "      <td>Fund</td>\n",
       "      <td>NaN</td>\n",
       "      <td>0x5755f00aa02a07ac8a0727ac09042e6750759e1a</td>\n",
       "      <td>5694949042200</td>\n",
       "      <td>0</td>\n",
       "    </tr>\n",
       "    <tr>\n",
       "      <th>1</th>\n",
       "      <td>0x8fa2d80045c00cff6d83189c978c879da80e4e06</td>\n",
       "      <td>Fund</td>\n",
       "      <td>NaN</td>\n",
       "      <td>0x2c4b47668ea298ef4ef98956774ea590e130cefa</td>\n",
       "      <td>941999949000</td>\n",
       "      <td>100000000</td>\n",
       "    </tr>\n",
       "    <tr>\n",
       "      <th>2</th>\n",
       "      <td>0x14dc37374aff6e1748451a5ab7f01d865b98214a</td>\n",
       "      <td>Fund</td>\n",
       "      <td>NaN</td>\n",
       "      <td>0x3e5f2a9c096499c1e90eef78790ad604a8619d88</td>\n",
       "      <td>786134655900</td>\n",
       "      <td>25000000000</td>\n",
       "    </tr>\n",
       "    <tr>\n",
       "      <th>3</th>\n",
       "      <td>0x6feefb18cd412a2a57a5f370d127b48510e472a7</td>\n",
       "      <td>Fund</td>\n",
       "      <td>NaN</td>\n",
       "      <td>0xbe21e4cf884c8b2517e4e199487f8b505841cb36</td>\n",
       "      <td>329355090900</td>\n",
       "      <td>0</td>\n",
       "    </tr>\n",
       "  </tbody>\n",
       "</table>\n",
       "</div>"
      ],
      "text/plain": [
       "                                           id entityType  ein  \\\n",
       "0  0x244064a29c0a18dfbc387a9aebc76d425a59aa07       Fund  NaN   \n",
       "1  0x8fa2d80045c00cff6d83189c978c879da80e4e06       Fund  NaN   \n",
       "2  0x14dc37374aff6e1748451a5ab7f01d865b98214a       Fund  NaN   \n",
       "3  0x6feefb18cd412a2a57a5f370d127b48510e472a7       Fund  NaN   \n",
       "\n",
       "                                entityManager  totalUsdcGrantedOut  \\\n",
       "0  0x5755f00aa02a07ac8a0727ac09042e6750759e1a        5694949042200   \n",
       "1  0x2c4b47668ea298ef4ef98956774ea590e130cefa         941999949000   \n",
       "2  0x3e5f2a9c096499c1e90eef78790ad604a8619d88         786134655900   \n",
       "3  0xbe21e4cf884c8b2517e4e199487f8b505841cb36         329355090900   \n",
       "\n",
       "   totalUsdcTransferredOut  \n",
       "0                        0  \n",
       "1                100000000  \n",
       "2              25000000000  \n",
       "3                        0  "
      ]
     },
     "execution_count": 3,
     "metadata": {},
     "output_type": "execute_result"
    }
   ],
   "source": [
    "data.head(4)"
   ]
  },
  {
   "cell_type": "code",
   "execution_count": 4,
   "id": "e19f6770-2cf0-409f-b3d0-a6275cb6bbd3",
   "metadata": {
    "tags": []
   },
   "outputs": [
    {
     "name": "stdout",
     "output_type": "stream",
     "text": [
      "<class 'pandas.core.frame.DataFrame'>\n",
      "RangeIndex: 100 entries, 0 to 99\n",
      "Data columns (total 6 columns):\n",
      " #   Column                   Non-Null Count  Dtype \n",
      "---  ------                   --------------  ----- \n",
      " 0   id                       100 non-null    object\n",
      " 1   entityType               100 non-null    object\n",
      " 2   ein                      33 non-null     object\n",
      " 3   entityManager            100 non-null    object\n",
      " 4   totalUsdcGrantedOut      100 non-null    int64 \n",
      " 5   totalUsdcTransferredOut  100 non-null    int64 \n",
      "dtypes: int64(2), object(4)\n",
      "memory usage: 4.8+ KB\n"
     ]
    }
   ],
   "source": [
    "data.info()"
   ]
  },
  {
   "cell_type": "code",
   "execution_count": 5,
   "id": "ba4f0981-7b10-4f5f-a288-d46a797312d3",
   "metadata": {
    "tags": []
   },
   "outputs": [],
   "source": [
    "# Define a function to check if input is human readable\n",
    "def is_human_readable(s):\n",
    "    return bool(re.match('^[a-zA-Z0-9\\s]*$', s))\n"
   ]
  },
  {
   "cell_type": "code",
   "execution_count": 6,
   "id": "67719d8a-6cd7-41b2-8eaa-56e02004c20a",
   "metadata": {
    "tags": []
   },
   "outputs": [
    {
     "data": {
      "text/plain": [
       "(100, 6)"
      ]
     },
     "execution_count": 6,
     "metadata": {},
     "output_type": "execute_result"
    }
   ],
   "source": [
    "data.shape"
   ]
  },
  {
   "cell_type": "code",
   "execution_count": 7,
   "id": "15a03c7f-aa48-4477-a4f8-337f8015fc03",
   "metadata": {
    "tags": []
   },
   "outputs": [
    {
     "data": {
      "text/html": [
       "<div>\n",
       "<style scoped>\n",
       "    .dataframe tbody tr th:only-of-type {\n",
       "        vertical-align: middle;\n",
       "    }\n",
       "\n",
       "    .dataframe tbody tr th {\n",
       "        vertical-align: top;\n",
       "    }\n",
       "\n",
       "    .dataframe thead th {\n",
       "        text-align: right;\n",
       "    }\n",
       "</style>\n",
       "<table border=\"1\" class=\"dataframe\">\n",
       "  <thead>\n",
       "    <tr style=\"text-align: right;\">\n",
       "      <th></th>\n",
       "      <th>id</th>\n",
       "      <th>entityType</th>\n",
       "      <th>ein</th>\n",
       "      <th>entityManager</th>\n",
       "      <th>totalUsdcGrantedOut</th>\n",
       "      <th>totalUsdcTransferredOut</th>\n",
       "    </tr>\n",
       "  </thead>\n",
       "  <tbody>\n",
       "    <tr>\n",
       "      <th>0</th>\n",
       "      <td>0x244064a29c0a18dfbc387a9aebc76d425a59aa07</td>\n",
       "      <td>Fund</td>\n",
       "      <td>NaN</td>\n",
       "      <td>0x5755f00aa02a07ac8a0727ac09042e6750759e1a</td>\n",
       "      <td>5694949042200</td>\n",
       "      <td>0</td>\n",
       "    </tr>\n",
       "    <tr>\n",
       "      <th>1</th>\n",
       "      <td>0x8fa2d80045c00cff6d83189c978c879da80e4e06</td>\n",
       "      <td>Fund</td>\n",
       "      <td>NaN</td>\n",
       "      <td>0x2c4b47668ea298ef4ef98956774ea590e130cefa</td>\n",
       "      <td>941999949000</td>\n",
       "      <td>100000000</td>\n",
       "    </tr>\n",
       "    <tr>\n",
       "      <th>2</th>\n",
       "      <td>0x14dc37374aff6e1748451a5ab7f01d865b98214a</td>\n",
       "      <td>Fund</td>\n",
       "      <td>NaN</td>\n",
       "      <td>0x3e5f2a9c096499c1e90eef78790ad604a8619d88</td>\n",
       "      <td>786134655900</td>\n",
       "      <td>25000000000</td>\n",
       "    </tr>\n",
       "  </tbody>\n",
       "</table>\n",
       "</div>"
      ],
      "text/plain": [
       "                                           id entityType  ein  \\\n",
       "0  0x244064a29c0a18dfbc387a9aebc76d425a59aa07       Fund  NaN   \n",
       "1  0x8fa2d80045c00cff6d83189c978c879da80e4e06       Fund  NaN   \n",
       "2  0x14dc37374aff6e1748451a5ab7f01d865b98214a       Fund  NaN   \n",
       "\n",
       "                                entityManager  totalUsdcGrantedOut  \\\n",
       "0  0x5755f00aa02a07ac8a0727ac09042e6750759e1a        5694949042200   \n",
       "1  0x2c4b47668ea298ef4ef98956774ea590e130cefa         941999949000   \n",
       "2  0x3e5f2a9c096499c1e90eef78790ad604a8619d88         786134655900   \n",
       "\n",
       "   totalUsdcTransferredOut  \n",
       "0                        0  \n",
       "1                100000000  \n",
       "2              25000000000  "
      ]
     },
     "execution_count": 7,
     "metadata": {},
     "output_type": "execute_result"
    }
   ],
   "source": [
    "data.head(3)"
   ]
  },
  {
   "cell_type": "code",
   "execution_count": 12,
   "id": "aeed860d-0cf5-45e5-b406-d2084036c24f",
   "metadata": {
    "tags": []
   },
   "outputs": [],
   "source": [
    "data.to_csv('data.csv', index=False)"
   ]
  },
  {
   "cell_type": "code",
   "execution_count": null,
   "id": "55078e3c-bc4a-4d08-b6e6-a1f0e921e015",
   "metadata": {},
   "outputs": [],
   "source": []
  }
 ],
 "metadata": {
  "kernelspec": {
   "display_name": "Python 3 (ipykernel)",
   "language": "python",
   "name": "python3"
  },
  "language_info": {
   "codemirror_mode": {
    "name": "ipython",
    "version": 3
   },
   "file_extension": ".py",
   "mimetype": "text/x-python",
   "name": "python",
   "nbconvert_exporter": "python",
   "pygments_lexer": "ipython3",
   "version": "3.11.4"
  }
 },
 "nbformat": 4,
 "nbformat_minor": 5
}
