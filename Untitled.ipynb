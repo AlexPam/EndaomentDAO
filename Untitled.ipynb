{
 "cells": [
  {
   "cell_type": "markdown",
   "id": "128b523f-982d-4ed5-97c7-708ad84cff06",
   "metadata": {
    "tags": []
   },
   "source": [
    "# DATA PREPROCESSING"
   ]
  },
  {
   "cell_type": "code",
   "execution_count": 49,
   "id": "de25eb95-aa84-4f09-8a70-0a8ade05730a",
   "metadata": {
    "tags": []
   },
   "outputs": [],
   "source": [
    "import pandas as pd\n",
    "import matplotlib.pyplot as plt\n",
    "import seaborn as sns"
   ]
  },
  {
   "cell_type": "code",
   "execution_count": 50,
   "id": "88410856-ef64-45c0-86da-c6c1100c56cb",
   "metadata": {
    "tags": []
   },
   "outputs": [],
   "source": [
    "# Load the dataset\n",
    "data = pd.read_csv('Grantees ranking in USDC.csv')\n"
   ]
  },
  {
   "cell_type": "code",
   "execution_count": 51,
   "id": "fec4aa36-621c-4c72-a7b1-72a1a77efd5e",
   "metadata": {
    "tags": []
   },
   "outputs": [
    {
     "name": "stdout",
     "output_type": "stream",
     "text": [
      "<class 'pandas.core.frame.DataFrame'>\n",
      "RangeIndex: 1000 entries, 0 to 999\n",
      "Data columns (total 5 columns):\n",
      " #   Column                   Non-Null Count  Dtype \n",
      "---  ------                   --------------  ----- \n",
      " 0   contractAddress          1000 non-null   object\n",
      " 1   ein                      945 non-null    object\n",
      " 2   entityType               1000 non-null   object\n",
      " 3   entityManager            1000 non-null   object\n",
      " 4   totalUsdcGrantsReceived  1000 non-null   int64 \n",
      "dtypes: int64(1), object(4)\n",
      "memory usage: 39.2+ KB\n"
     ]
    }
   ],
   "source": [
    "data.info()"
   ]
  },
  {
   "cell_type": "code",
   "execution_count": 52,
   "id": "89e8979d-57f2-4de8-9c08-43cfbd0b2a45",
   "metadata": {
    "tags": []
   },
   "outputs": [],
   "source": [
    "# Divide the 'bimbo' column by 1e16\n",
    "data['totalUsdcGrantsReceived'] = data['totalUsdcGrantsReceived'] / 1e6"
   ]
  },
  {
   "cell_type": "code",
   "execution_count": 53,
   "id": "f49bd831-a879-4716-a3e5-a76ffc380b1f",
   "metadata": {
    "tags": []
   },
   "outputs": [
    {
     "data": {
      "text/html": [
       "<div>\n",
       "<style scoped>\n",
       "    .dataframe tbody tr th:only-of-type {\n",
       "        vertical-align: middle;\n",
       "    }\n",
       "\n",
       "    .dataframe tbody tr th {\n",
       "        vertical-align: top;\n",
       "    }\n",
       "\n",
       "    .dataframe thead th {\n",
       "        text-align: right;\n",
       "    }\n",
       "</style>\n",
       "<table border=\"1\" class=\"dataframe\">\n",
       "  <thead>\n",
       "    <tr style=\"text-align: right;\">\n",
       "      <th></th>\n",
       "      <th>contractAddress</th>\n",
       "      <th>ein</th>\n",
       "      <th>entityType</th>\n",
       "      <th>entityManager</th>\n",
       "      <th>totalUsdcGrantsReceived</th>\n",
       "    </tr>\n",
       "  </thead>\n",
       "  <tbody>\n",
       "    <tr>\n",
       "      <th>0</th>\n",
       "      <td>0x8610a565fdb1b0b25ef68931205cf8954cce284e</td>\n",
       "      <td>952872494</td>\n",
       "      <td>Org</td>\n",
       "      <td>0x0000000000000000000000000000000000000000</td>\n",
       "      <td>1.502874e+06</td>\n",
       "    </tr>\n",
       "    <tr>\n",
       "      <th>1</th>\n",
       "      <td>0xf5cb0ac62479ca0ae0aec406e368b3025eecbe0a</td>\n",
       "      <td>941156365</td>\n",
       "      <td>Org</td>\n",
       "      <td>0x0000000000000000000000000000000000000000</td>\n",
       "      <td>1.100030e+06</td>\n",
       "    </tr>\n",
       "    <tr>\n",
       "      <th>2</th>\n",
       "      <td>0xbad1b065bee48425be8bfd425714820b461de607</td>\n",
       "      <td>060646973</td>\n",
       "      <td>Org</td>\n",
       "      <td>0x0000000000000000000000000000000000000000</td>\n",
       "      <td>1.000099e+06</td>\n",
       "    </tr>\n",
       "    <tr>\n",
       "      <th>3</th>\n",
       "      <td>0x7ecc1d4936a973ec3b153c0c713e0f71c59abf53</td>\n",
       "      <td>844661797</td>\n",
       "      <td>Org</td>\n",
       "      <td>0x0000000000000000000000000000000000000000</td>\n",
       "      <td>8.787094e+05</td>\n",
       "    </tr>\n",
       "    <tr>\n",
       "      <th>4</th>\n",
       "      <td>0x83683573dfab0e5bb606174c25ba9e79387a4e5c</td>\n",
       "      <td>866050388</td>\n",
       "      <td>Org</td>\n",
       "      <td>0x0000000000000000000000000000000000000000</td>\n",
       "      <td>6.969602e+05</td>\n",
       "    </tr>\n",
       "    <tr>\n",
       "      <th>5</th>\n",
       "      <td>0x49a89ef5bbcde78db646f8d3652493d9c8698184</td>\n",
       "      <td>582277856</td>\n",
       "      <td>Org</td>\n",
       "      <td>0x0000000000000000000000000000000000000000</td>\n",
       "      <td>6.018221e+05</td>\n",
       "    </tr>\n",
       "    <tr>\n",
       "      <th>6</th>\n",
       "      <td>0xee6e9f57dd51d96565e1adeefbf1807c302bdebd</td>\n",
       "      <td>042103547</td>\n",
       "      <td>Org</td>\n",
       "      <td>0x0000000000000000000000000000000000000000</td>\n",
       "      <td>5.000150e+05</td>\n",
       "    </tr>\n",
       "    <tr>\n",
       "      <th>7</th>\n",
       "      <td>0x0c5c6ac81772e3a1cdd8942af34c32a63b88ba7c</td>\n",
       "      <td>475245280</td>\n",
       "      <td>Org</td>\n",
       "      <td>0x0000000000000000000000000000000000000000</td>\n",
       "      <td>3.749923e+05</td>\n",
       "    </tr>\n",
       "    <tr>\n",
       "      <th>8</th>\n",
       "      <td>0x9eeeabf4cc539ef2f6ff1e9bb4adb8dc0bed8f67</td>\n",
       "      <td>464930592</td>\n",
       "      <td>Org</td>\n",
       "      <td>0x0000000000000000000000000000000000000000</td>\n",
       "      <td>2.511811e+05</td>\n",
       "    </tr>\n",
       "    <tr>\n",
       "      <th>9</th>\n",
       "      <td>0x47166636eaba7a51550d09cc485dd1864ca5f2c5</td>\n",
       "      <td>521495060</td>\n",
       "      <td>Org</td>\n",
       "      <td>0x0000000000000000000000000000000000000000</td>\n",
       "      <td>2.000150e+05</td>\n",
       "    </tr>\n",
       "  </tbody>\n",
       "</table>\n",
       "</div>"
      ],
      "text/plain": [
       "                              contractAddress        ein entityType  \\\n",
       "0  0x8610a565fdb1b0b25ef68931205cf8954cce284e  952872494        Org   \n",
       "1  0xf5cb0ac62479ca0ae0aec406e368b3025eecbe0a  941156365        Org   \n",
       "2  0xbad1b065bee48425be8bfd425714820b461de607  060646973        Org   \n",
       "3  0x7ecc1d4936a973ec3b153c0c713e0f71c59abf53  844661797        Org   \n",
       "4  0x83683573dfab0e5bb606174c25ba9e79387a4e5c  866050388        Org   \n",
       "5  0x49a89ef5bbcde78db646f8d3652493d9c8698184  582277856        Org   \n",
       "6  0xee6e9f57dd51d96565e1adeefbf1807c302bdebd  042103547        Org   \n",
       "7  0x0c5c6ac81772e3a1cdd8942af34c32a63b88ba7c  475245280        Org   \n",
       "8  0x9eeeabf4cc539ef2f6ff1e9bb4adb8dc0bed8f67  464930592        Org   \n",
       "9  0x47166636eaba7a51550d09cc485dd1864ca5f2c5  521495060        Org   \n",
       "\n",
       "                                entityManager  totalUsdcGrantsReceived  \n",
       "0  0x0000000000000000000000000000000000000000             1.502874e+06  \n",
       "1  0x0000000000000000000000000000000000000000             1.100030e+06  \n",
       "2  0x0000000000000000000000000000000000000000             1.000099e+06  \n",
       "3  0x0000000000000000000000000000000000000000             8.787094e+05  \n",
       "4  0x0000000000000000000000000000000000000000             6.969602e+05  \n",
       "5  0x0000000000000000000000000000000000000000             6.018221e+05  \n",
       "6  0x0000000000000000000000000000000000000000             5.000150e+05  \n",
       "7  0x0000000000000000000000000000000000000000             3.749923e+05  \n",
       "8  0x0000000000000000000000000000000000000000             2.511811e+05  \n",
       "9  0x0000000000000000000000000000000000000000             2.000150e+05  "
      ]
     },
     "execution_count": 53,
     "metadata": {},
     "output_type": "execute_result"
    }
   ],
   "source": [
    "data.head(10)"
   ]
  },
  {
   "cell_type": "code",
   "execution_count": 54,
   "id": "70e0e678-6850-4861-9da0-0ff30c9b31e5",
   "metadata": {
    "tags": []
   },
   "outputs": [
    {
     "name": "stdout",
     "output_type": "stream",
     "text": [
      "Empty DataFrame\n",
      "Columns: [contractAddress, ein, entityType, entityManager, totalUsdcGrantsReceived]\n",
      "Index: []\n"
     ]
    }
   ],
   "source": [
    "filtered_data = data[data['ein'] == 464930592]\n",
    "# print the result\n",
    "print(filtered_data)"
   ]
  },
  {
   "cell_type": "code",
   "execution_count": 55,
   "id": "7884e5ef-c036-4acb-ab42-3ded0e0abaa1",
   "metadata": {
    "tags": []
   },
   "outputs": [
    {
     "name": "stdout",
     "output_type": "stream",
     "text": [
      "object\n"
     ]
    }
   ],
   "source": [
    "print(data['ein'].dtypes)\n"
   ]
  },
  {
   "cell_type": "code",
   "execution_count": 56,
   "id": "e0ea042f-cd29-497b-8539-686813efa887",
   "metadata": {
    "tags": []
   },
   "outputs": [
    {
     "name": "stdout",
     "output_type": "stream",
     "text": [
      "                               contractAddress        ein entityType  \\\n",
      "60  0x05c8fb8e7138a1702bfb4736860296ea596ca85d  954681287        Org   \n",
      "\n",
      "                                 entityManager  totalUsdcGrantsReceived  \n",
      "60  0x0000000000000000000000000000000000000000                9071.6076  \n"
     ]
    }
   ],
   "source": [
    "filtered_data = data[data['ein'] == '954681287']\n",
    "print(filtered_data)\n"
   ]
  },
  {
   "cell_type": "code",
   "execution_count": 57,
   "id": "685827a2-b57a-48fc-a842-34e59d29aac9",
   "metadata": {
    "tags": []
   },
   "outputs": [],
   "source": [
    "# Convert 'totalUsdcGrantsReceived' to int data type\n",
    "data['totalUsdcGrantsReceived'] = pd.to_numeric(data['totalUsdcGrantsReceived'], errors='coerce').astype(int)\n"
   ]
  },
  {
   "cell_type": "code",
   "execution_count": null,
   "id": "11dec732-60fb-4fec-a3ca-6296608bf58d",
   "metadata": {},
   "outputs": [],
   "source": [
    "data.head(5)"
   ]
  },
  {
   "cell_type": "code",
   "execution_count": null,
   "id": "1b03a1fd-2f8f-47d2-90a7-f429bd924415",
   "metadata": {},
   "outputs": [],
   "source": []
  }
 ],
 "metadata": {
  "kernelspec": {
   "display_name": "Python 3 (ipykernel)",
   "language": "python",
   "name": "python3"
  },
  "language_info": {
   "codemirror_mode": {
    "name": "ipython",
    "version": 3
   },
   "file_extension": ".py",
   "mimetype": "text/x-python",
   "name": "python",
   "nbconvert_exporter": "python",
   "pygments_lexer": "ipython3",
   "version": "3.11.4"
  }
 },
 "nbformat": 4,
 "nbformat_minor": 5
}
